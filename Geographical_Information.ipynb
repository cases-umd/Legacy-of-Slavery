{
 "cells": [
  {
   "cell_type": "markdown",
   "metadata": {},
   "source": [
    "# Geographical Information\n",
    "\n",
    "Taking into account everything that has already been said, we will specify any notable points or differences within this particular theme of the data."
   ]
  },
  {
   "cell_type": "markdown",
   "metadata": {},
   "source": [
    "**Major Challenges:**\n",
    "* Transcribers often neglected to include complete geographical information, even when it was available (e.g. when an ad specifies that the owner lived in the locale of Washington, D.C. but the county column is left blank)\n",
    "<img src=\"Pics/counties.png\" title=\"Counties\" width=\"\" height=\"\"/>\n"
   ]
  },
  {
   "cell_type": "markdown",
   "metadata": {},
   "source": [
    "# Mapping Computational Thinking into Library and Archival Science Practices (CT-LAS)\n",
    "(Data Practices and Systems Thinking Practices), focused on age and sex\n",
    "\n",
    "<img src=\"taxonomy.png\" title=\"CT Taxonomy\" width=\"\" height=\"\"/>"
   ]
  },
  {
   "cell_type": "markdown",
   "metadata": {},
   "source": [
    "## Data Practices\n",
    "\n",
    "* **Collecting Data** (Maryland State Archives and crowdsourced transcribers)\n",
    "* **Creating Data / Manipulating Data** - cleaning data to ensure typos of locales were corrected\n",
    "* **Analyzing / Visualizing Data** - in Tableau, queried relationships between county of origin, the number of entries for each county, and the predicted destinations to begin understanding more about the movements of the enslaved population described"
   ]
  },
  {
   "cell_type": "markdown",
   "metadata": {},
   "source": [
    "## Systems Thinking Practices\n",
    "\n",
    "* **Investigating Complex System as a Whole** and **Understanding the Relationships within a System** - spent first day getting comfortable with the dataset and understanding the distinct and interconnected information included (runaway data and owner data, newspaper data, etc.) - they are all linked.\n",
    "    * Explicity compared runaway data and owner data to attempt to trace path of runaways\n",
    "* **Thinking in Levels** - cleaned data of county typos first to minimize the potential to lose information, as counties have the highest potential to compare to other factors.\n"
   ]
  },
  {
   "cell_type": "markdown",
   "metadata": {},
   "source": [
    "# Frequency of Runaways in the Record by County\n",
    "\n",
    "<img src=\"Pics/map.png\" title=\"Map\" width=\"\" height=\"\" />\n"
   ]
  }
 ],
 "metadata": {
  "kernelspec": {
   "display_name": "Python 3",
   "language": "python",
   "name": "python3"
  },
  "language_info": {
   "codemirror_mode": {
    "name": "ipython",
    "version": 3
   },
   "file_extension": ".py",
   "mimetype": "text/x-python",
   "name": "python",
   "nbconvert_exporter": "python",
   "pygments_lexer": "ipython3",
   "version": "3.6.5"
  }
 },
 "nbformat": 4,
 "nbformat_minor": 2
}
