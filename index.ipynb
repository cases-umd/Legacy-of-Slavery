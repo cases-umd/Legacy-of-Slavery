{
 "cells": [
  {
   "cell_type": "markdown",
   "metadata": {},
   "source": [
    "# Legacy of Slavery CASE Module\n",
    "### Computing the Legacy of Slavery: Applying Computational Thinking to an Archival Dataset\n",
    "* **Student Contributors:** K. Sarah Ostrach, Natalie Salive, Olivia Isaacs\n",
    "* **Faculty Mentor:** Richard Marciano\n",
    "* **Source Available:** https://github.com/cases-umd/Legacy-of-Slavery\n",
    "* **License:** [Creative Commons - Attribute 4.0 Intl](https://creativecommons.org/licenses/by/4.0/)\n",
    "* [Lesson Plan for Instructors](./lesson-plan.ipynb)\n",
    "* **Related Publications:**\n",
    " * **IEEE Big Data 2019 CAS Workshop:** [A Case Study in Creating Transparency in Using Cultural Big Data: The Legacy of Slavery Project](https://dcicblog.umd.edu/cas/wp-content/uploads/sites/13/2018/12/12.Cox_-2.pdf)\n",
    "* **More Information:**\n",
    " * **SAA Outlook March/April 2019:** [Turning Data into People in Maryland's Slave Records](https://twitter.com/archivists_org/status/1116132520255479809)\n",
    "\n",
    "## Introduction\n",
    "This module is based on a case study involving [The \"Legacy of Slavery Project\"](http://slavery.msa.maryland.gov/) archival records from the Maryland State Archives. The Legacy of Slavery in Maryland is a major initiative of the Maryland State Archives. The program seeks to preserve and promote the vast universe of experiences that have shaped the lives of Maryland’s African American population. Over the last 18 years, some 420,000 individuals have been identified and data has been assembled into 16 major databases. The [DCIC](http://dcic.umd.edu) has now partnered with the Maryland State Archives to help interpret this data and reveal hidden stories.\n",
    "\n",
    "The team of students (as part of the [Data Challenge 2019] (https://datachallenge.ischool.umd.edu/) interacted with a historical data set from the Maryland State Archives compiling the metadata of newspaper advertisements for runaway slaves, and received the **\"Best Team Presentation\" award** for this work.\n",
    "<center>\n",
    "<img src=\"Photos/Sat_Feb-23.png\" title=\"Sat. Feb. 23\" width=\"67\" height=\"84\"/> <img src=\"Photos/Sat_Mar-2.png\" title=\"Sat. Mar. 2\" width=\"128\" height=\"84\" /> <img src=\"Photos/group.jpg\" title=\"Group\" width=\"133\" height=\"84\" /> <img src=\"Photos/crowd.png\" title=\"Crowd\" width=\"116\" height=\"84\" />\n",
    "</center>\n",
    "\n",
    "They organized their exploration around David Weintrop’s model of computation thinking (https://link.springer.com/content/pdf/10.1007%2Fs10956-015-9581-5.pdf) to build on the work of a previous survey of the data and other related data sets as part of the larger Legacy of Slavery project. Under the guidance of Dr. Richard Marciano, they hoped to further the University of Maryland Digital Curation Innovation Center’s (DCIC) “agenda to ‘infuse computational thinking’ into archival science,” (https://dcicblog.umd.edu/cas/wp-content/uploads/sites/13/2018/12/2.Marciano.pdf).\n",
    "\n",
    "They applied the taxonomy to three themes: **dates, locations, and demographics**. Previous work was decently accurate in analyzing the dates of these advertisements. Thus, the team moved forward to explore the relationship between advertisement date and departure date. The prior geographic visualizations were more problematic: changing county boundaries, extensive human error and abbreviation in data transcription, and null values. Previous visualizations of demographics did not adequately clean and homogenize the data. The team was able to produce a more accurate understanding of who was running away while beginning to explore methods for isolating distinct individuals.\n",
    "\n",
    "![CT-STEM taxonomy](taxonomy.png \"David W.'s CT Taxonomy\")\n",
    "\n",
    "## Motivation\n",
    "Students got a chance to work with the 12,000+ records from the **Runaway Slave Ads** collection.  This collection features local newspaper advertisements placed by slave owners in an attempt to retrieve their escaped slaves. The data links newspaper clippings, and fugitive, owner, and departure and destination data.\n",
    "\n",
    "The project offers an opportunity to discover new insights into the patterns of fugitive slaves in Maryland, based on location, time period, and relationships. \n",
    "\n",
    "The team met challenges including the time constraints of the data challenge itself, the historical nature of the data, and the abundance of human error both in the creation of the original advertisements and in the recent crowdsourced transcriptions. \n",
    "\n",
    "Future developments include reliably cleaning and linking demographics and geographical data from the larger Legacy of Slavery project in order to tell more complete stories of enslavement, slave-based economics, and geographical migration.\n",
    "\n",
    "## Learning Goals\n",
    "\n",
    "### **A**rchival Practices\n",
    " * Categories to be added...\n",
    "\n",
    "### **C**omputational Practices\n",
    "* Data Practices\n",
    " * Collecting Data\n",
    " * Creating Data\n",
    " * Manipulating Data\n",
    " * Analyzing Data\n",
    " * Visualizing Data\n",
    "* Systems Thinking Practices\n",
    " * Investigating a Complex Systems as a Whole\n",
    " * Understanding the Relationships within a System\n",
    " * Thinking in Levels\n",
    " \n",
    "### **E**thical Concerns\n",
    " * Categories to be added..."
   ]
  },
  {
   "cell_type": "markdown",
   "metadata": {},
   "source": [
    "# Software and Tools\n",
    "\n",
    "* **Microsoft Excel** (spreadsheet program)\n",
    "* **SQLite** (relational database management system contained in a C programming library.\n",
    "* **Tableau** (interactive data visualization tool focused on business intelligence)"
   ]
  },
  {
   "cell_type": "markdown",
   "metadata": {},
   "source": [
    "# Acquiring or Accessing the Data\n",
    "The data for this project was originally crawled from the Maryland State Archives **Legacy of Data** collections \n",
    "The data source is included in this module as a comma-separated values file. The link below will take you to a view the data file:\n",
    "* [RunawayAds.csv](Datasets/RunawayAds.csv)\n",
    "\n",
    "In addition, two Tableau .TWBX Workbook files are provided:\n",
    "* [Demographics .TWBX](Datasets/Runaway_Ads_Demographics_Package.twbx)\n",
    "* [Date and Geo .TWBX](Datasets/Date_and_Geo_Package.twbx)"
   ]
  },
  {
   "cell_type": "markdown",
   "metadata": {},
   "source": [
    "# Notebooks\n",
    "\n",
    "This module is organized into a series of Python Notebooks that introduce, process, coordinate, and visualize the Tule Lake data.\n",
    "\n",
    "1. [Dataset Review: Major Challenges](Major_Challenges.ipynb)\n",
    "1. [Dataset Review: Geographical Information](Geographical_Information.ipynb)\n",
    "1. [Prezi Presentation:] (https://prezi.com/view/cFipmfEhKoiFE0hYcDOa/)\n",
    "1. [Tableau: Original Work in 2018](Original_Tableau.ipynb)\n"
   ]
  }
 ],
 "metadata": {
  "kernelspec": {
   "display_name": "Python 3",
   "language": "python",
   "name": "python3"
  },
  "language_info": {
   "codemirror_mode": {
    "name": "ipython",
    "version": 3
   },
   "file_extension": ".py",
   "mimetype": "text/x-python",
   "name": "python",
   "nbconvert_exporter": "python",
   "pygments_lexer": "ipython3",
   "version": "3.6.5"
  }
 },
 "nbformat": 4,
 "nbformat_minor": 2
}
