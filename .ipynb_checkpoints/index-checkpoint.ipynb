{
 "cells": [
  {
   "cell_type": "markdown",
   "metadata": {},
   "source": [
    "# Piloting Interactive Data Science Learning Platforms through the Development of Cloud-based Computational Digital Notebooks\n",
    "\n",
    "### This Project uses Maryland State Archives' Legacy of Slavery Dataset Collection - Certificates of Freedom as a Case Study\n",
    "* **Student Contributors:** Rajesh Kumar GNANASEKARAN\n",
    "* **Faculty Mentor:** Richard MARCIANO\n",
    "* **Community Mentor:** Maya DAVIS, Christopher HALEY (Maryland State Archives), Lyneise WILLIAMS (VERA Collaborative), Mark CONRAD (NARA)\n",
    "* **Source Available:** https://github.com/cases-umd/Legacy-of-Slavery\n",
    "* **License:** [Creative Commons - Attribute 4.0 Intl](https://creativecommons.org/licenses/by/4.0/)\n",
    "\n",
    "## Introduction\n",
    "This module is based on a case study involving [The \"Legacy of Slavery Project\"](http://slavery.msa.maryland.gov/) archival records from the Maryland State Archives. The Legacy of Slavery in Maryland is a major initiative of the Maryland State Archives. The program seeks to preserve and promote the vast universe of experiences that have shaped the lives of Maryland’s African American population. Over the last 18 years, some 420,000 individuals have been identified and data has been assembled into 16 major databases. The [AIC](https://ai-collaboratory.net/) has now partnered with the Maryland State Archives to help interpret this data and reveal hidden stories.\n",
    "\n",
    "This Project is organized in steps based on the Computational Thinking framework presented by [David Weintrop’s model of computation thinking](https://link.springer.com/content/pdf/10.1007%2Fs10956-015-9581-5.pdf)\n",
    "\n",
    "![CT-STEM taxonomy](taxonomy.png \"David W.'s CT Taxonomy\")\n",
    "\n",
    "Of these 4 major Practices, this Project applies 2 of them as indicated below:\n",
    "\n",
    "![CT-STEM Taxonomy Practices Uses](Pics\\taxonomy_used.png)\n",
    "\n",
    "### **C**omputational Thinking Practices\n",
    "#### Data Practices\n",
    " * Manipulating Data\n",
    " * Analyzing Data\n",
    " * Visualizing Data\n",
    "\n",
    "#### All Computational Problem Solving Practices\n",
    "\n",
    "## Learning Goals\n",
    "\n",
    "### **A**rchival Practices\n",
    " * Digital Records and Access Systems\n",
    "\n",
    "### **E**thics and Values Considerations\n",
    " * Contexualized Analysis of Data"
   ]
  },
  {
   "cell_type": "markdown",
   "metadata": {},
   "source": [
    "# Software and Tools\n",
    "\n",
    "* **Jupyter Notebooks and Jupyter Lab** \n",
    "* **Python and libraries supported by it** "
   ]
  },
  {
   "cell_type": "markdown",
   "metadata": {},
   "source": [
    "# Notebooks\n",
    "\n",
    "The below module is organized into a sequential set of Python Notebooks that allows to interact with the Legacy of Slavery's Certificates of Freedom collection by exploring, cleaning, preparing, visualizing and analysing it from historical context perspective. \n",
    "\n",
    "1. [Certificates Of Freedom: Context Based Data Manipulation](LoS_CoF_Data_Manipulation.ipynb)\n",
    "1. [Certificates Of Freedom: Context Based Data Analysis](LoS_CoF_Data_Analysis.ipynb)\n",
    "1. [Certificates Of Freedom: Context Based Data Visualization](LoS_CoF_Data_Vizualization.ipynb)\n"
   ]
  },
  {
   "cell_type": "markdown",
   "metadata": {},
   "source": [
    "[Click here to go the Next Module](LoS_CoF_Data_Manipulation.ipynb)"
   ]
  }
 ],
 "metadata": {
  "kernelspec": {
   "display_name": "Python 3",
   "language": "python",
   "name": "python3"
  },
  "language_info": {
   "codemirror_mode": {
    "name": "ipython",
    "version": 3
   },
   "file_extension": ".py",
   "mimetype": "text/x-python",
   "name": "python",
   "nbconvert_exporter": "python",
   "pygments_lexer": "ipython3",
   "version": "3.8.5"
  }
 },
 "nbformat": 4,
 "nbformat_minor": 4
}
